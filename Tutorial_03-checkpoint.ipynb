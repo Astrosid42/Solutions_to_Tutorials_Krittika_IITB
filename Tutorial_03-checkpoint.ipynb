{
 "cells": [
  {
   "cell_type": "markdown",
   "id": "43231147-7c2e-4b9b-821a-a849539bc996",
   "metadata": {},
   "source": [
    "Tutorial 03\n",
    "\n",
    "Your task is the following:\n",
    "\n",
    "1. Compute the distance to a galaxy, in suitable units, given the galaxy's serial number.\n",
    "\n",
    "2. Compute the number of galaxies observed by SDSS-MaNGA, in some given distance interval.\n",
    "\n",
    "3. Compute the physical separation between two galaxies, given their serial numbers. Note: The two galaxies might be at different radial distances."
   ]
  },
  {
   "cell_type": "markdown",
   "id": "014ca243-5268-4bb3-abe4-14b7fc1b3687",
   "metadata": {},
   "source": [
    "Part 1"
   ]
  },
  {
   "cell_type": "code",
   "execution_count": 81,
   "id": "7410d8ce-7e43-4b46-91fb-e3e274d1c343",
   "metadata": {},
   "outputs": [],
   "source": [
    "import numpy as np"
   ]
  },
  {
   "cell_type": "code",
   "execution_count": 82,
   "id": "e11eaa81-4ae6-4c44-afb5-202fa971464a",
   "metadata": {},
   "outputs": [
    {
     "name": "stdout",
     "output_type": "stream",
     "text": [
      "[[1.000000e+00 1.333711e+02 5.759840e+01 3.950000e-02]\n",
      " [2.000000e+00 1.336857e+02 5.748020e+01 4.110000e-02]\n",
      " [3.000000e+00 1.360172e+02 5.709230e+01 4.660000e-02]\n",
      " ...\n",
      " [4.654000e+03 2.280733e+02 2.965720e+01 6.900000e-02]\n",
      " [4.655000e+03 2.270414e+02 2.922220e+01 1.113000e-01]\n",
      " [4.656000e+03 2.281764e+02 2.779960e+01 6.870000e-02]]\n",
      "4656\n"
     ]
    }
   ],
   "source": [
    "serial_number, RA, DEC, redshift = np.genfromtxt(\"galaxies.csv\", delimiter = \",\", unpack = True)\n",
    "#print(galaxies)\n",
    "print(np.round(galaxies,4))\n",
    "print(len(galaxies))"
   ]
  },
  {
   "cell_type": "code",
   "execution_count": 83,
   "id": "3154fae1-d7f3-4231-86ed-2126d0e7a174",
   "metadata": {},
   "outputs": [
    {
     "name": "stdout",
     "output_type": "stream",
     "text": [
      "[169.35036121 175.95286777 199.58946327 ... 295.80689969 476.98619575\n",
      " 294.21936927]\n",
      "4656\n"
     ]
    }
   ],
   "source": [
    "def distance_to_galaxy(galaxies):\n",
    "    d = (redshift*4285.7)\n",
    "    return d\n",
    "dist_to_gal = distance_to_galaxy(galaxies)\n",
    "print(dist_to_gal)\n",
    "print(len(distance_to_galaxy(galaxies)))"
   ]
  },
  {
   "cell_type": "code",
   "execution_count": 84,
   "id": "786ec26f-370c-43a5-86c2-23aefd35ba39",
   "metadata": {},
   "outputs": [
    {
     "name": "stdout",
     "output_type": "stream",
     "text": [
      "The distance to the galaxy with serial number 4656.0 is 294.22 Mpc.\n"
     ]
    }
   ],
   "source": [
    "print(f\"The distance to the galaxy with serial number {serial_number[4655]} is {dist_to_gal[4655]:5.2f} Mpc.\")\n",
    "# :5.2f is for string formatting"
   ]
  },
  {
   "cell_type": "code",
   "execution_count": 85,
   "id": "9d169656-9279-430f-a66b-3458275eb034",
   "metadata": {},
   "outputs": [
    {
     "name": "stdout",
     "output_type": "stream",
     "text": [
      "169.35036121119998\n",
      "170.28590380699998\n",
      "93120\n"
     ]
    }
   ],
   "source": [
    "d_gal_1 = dist_to_gal[0]\n",
    "d_gal_2 = dist_to_gal[7]\n",
    "print(d_gal_1)\n",
    "print(d_gal_2)\n",
    "count = 0\n",
    "for d in dist_to_gal:\n",
    "    for i in serial_number:\n",
    "        if d_gal_1 <= d <= d_gal_2:\n",
    "            count = count + 1\n",
    "print(count)\n",
    "\n",
    "    "
   ]
  },
  {
   "cell_type": "code",
   "execution_count": 86,
   "id": "4e1daacc-20e2-499f-b9bf-8cdbaa0ff00b",
   "metadata": {},
   "outputs": [
    {
     "ename": "SyntaxError",
     "evalue": "invalid syntax (1238791970.py, line 4)",
     "output_type": "error",
     "traceback": [
      "\u001b[1;36m  Cell \u001b[1;32mIn[86], line 4\u001b[1;36m\u001b[0m\n\u001b[1;33m    if dist_to_gal is [0:5]:\u001b[0m\n\u001b[1;37m                        ^\u001b[0m\n\u001b[1;31mSyntaxError\u001b[0m\u001b[1;31m:\u001b[0m invalid syntax\n"
     ]
    }
   ],
   "source": [
    "#def galaxies_in_interval(galaxies):\n",
    "count = 0\n",
    "for i in serial_number:\n",
    "    if dist_to_gal is [0:5]:\n",
    "        count = count + 1\n",
    "print(count)\n",
    "#gal_1 = dist_to_gal[0]\n",
    "#gal_2 = dist_to_gal[1]\n"
   ]
  }
 ],
 "metadata": {
  "kernelspec": {
   "display_name": "Python 3 (ipykernel)",
   "language": "python",
   "name": "python3"
  },
  "language_info": {
   "codemirror_mode": {
    "name": "ipython",
    "version": 3
   },
   "file_extension": ".py",
   "mimetype": "text/x-python",
   "name": "python",
   "nbconvert_exporter": "python",
   "pygments_lexer": "ipython3",
   "version": "3.12.3"
  }
 },
 "nbformat": 4,
 "nbformat_minor": 5
}
